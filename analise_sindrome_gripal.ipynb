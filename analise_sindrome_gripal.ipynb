{
 "cells": [
  {
   "cell_type": "markdown",
   "id": "8e905204",
   "metadata": {},
   "source": [
    "# Análise de Dados - Síndrome Gripal em MG (2020–2024)\n",
    "Este notebook apresenta uma análise exploratória de dados referente às notificações de síndrome gripal no estado de Minas Gerais entre 2020 e 2024."
   ]
  },
  {
   "cell_type": "code",
   "execution_count": null,
   "id": "8a4865f2",
   "metadata": {},
   "outputs": [],
   "source": [
    "import pandas as pd\n",
    "import numpy as np\n",
    "\n",
    "# Carregamento dos dados\n",
    "df = pd.read_csv('/content/dados_brutos.csv', on_bad_lines='skip', sep=';')\n",
    "\n",
    "# Visualizar colunas disponíveis\n",
    "df.columns"
   ]
  },
  {
   "cell_type": "code",
   "execution_count": null,
   "id": "30606a37",
   "metadata": {},
   "outputs": [],
   "source": [
    "# Seleção de colunas relevantes\n",
    "df_selecionado = df[['sintomas', 'racaCor', 'outrosSintomas', 'sexo', 'codigoRecebeuVacina', 'idade']]\n",
    "df_selecionado.head()"
   ]
  },
  {
   "cell_type": "code",
   "execution_count": null,
   "id": "b0ab559e",
   "metadata": {},
   "outputs": [],
   "source": [
    "# Estatísticas descritivas para a idade\n",
    "print(\"Estatísticas Descritivas - Idade:\")\n",
    "print(df_selecionado['idade'].describe())"
   ]
  },
  {
   "cell_type": "code",
   "execution_count": null,
   "id": "08ee4f3a",
   "metadata": {},
   "outputs": [],
   "source": [
    "# Contagem de categorias para variáveis categóricas\n",
    "print(\"\\nContagem de Sexo:\")\n",
    "print(df_selecionado['sexo'].value_counts())\n",
    "\n",
    "print(\"\\nContagem de Raça/Cor:\")\n",
    "print(df_selecionado['racaCor'].value_counts())\n",
    "\n",
    "print(\"\\nContagem de Código Recebeu Vacina:\")\n",
    "print(df_selecionado['codigoRecebeuVacina'].value_counts())"
   ]
  },
  {
   "cell_type": "code",
   "execution_count": null,
   "id": "61d5f387",
   "metadata": {},
   "outputs": [],
   "source": [
    "# Processamento da coluna 'sintomas'\n",
    "sintomas_dummies = df_selecionado['sintomas'].str.get_dummies(sep=', ')\n",
    "sintomas_contagem = sintomas_dummies.sum().sort_values(ascending=False)\n",
    "\n",
    "print(\"\\nContagem de Sintomas:\")\n",
    "print(sintomas_contagem)"
   ]
  },
  {
   "cell_type": "code",
   "execution_count": null,
   "id": "a75b0e9a",
   "metadata": {},
   "outputs": [],
   "source": [
    "# Instalar o ydata-profiling (caso necessário)\n",
    "# !pip install ydata-profiling\n",
    "\n",
    "from ydata_profiling import ProfileReport\n",
    "\n",
    "# Gerar relatório de perfil\n",
    "profile = ProfileReport(df_selecionado, title='Relatório de Perfil - Síndrome Gripal')\n",
    "profile.to_file('output.html')"
   ]
  }
 ],
 "metadata": {},
 "nbformat": 4,
 "nbformat_minor": 5
}
